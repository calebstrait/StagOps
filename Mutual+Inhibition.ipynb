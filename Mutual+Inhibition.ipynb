{
 "cells": [
  {
   "cell_type": "markdown",
   "metadata": {},
   "source": [
    "Setup"
   ]
  },
  {
   "cell_type": "code",
   "execution_count": null,
   "metadata": {
    "collapsed": true
   },
   "outputs": [],
   "source": [
    "load vmPFCdata.mat\n",
    "toplotMI = zeros(700,1);\n",
    "tostarMI = nan(700,1);\n",
    "toplotEV1 = zeros(700,1);"
   ]
  },
  {
   "cell_type": "markdown",
   "metadata": {
    "collapsed": true
   },
   "source": [
    "Calculate correlation between option 1 value coding & option 2 value coding for each bin in the plot"
   ]
  },
  {
   "cell_type": "code",
   "execution_count": null,
   "metadata": {
    "collapsed": true
   },
   "outputs": [],
   "source": [
    "for b = 1:700-24 % # bins in plot\n",
    "\n",
    "    [R1s,R2s,Ps] = deal(zeros(156,1));\n",
    "    for c = 1:156 % # cells\n",
    "    \n",
    "        psth = vmPFCdata{c}.psth;\n",
    "        spikes = mean(psth(:,b:b+24),2); % Firing rate/trial in 50ms bins, or 25 bins\n",
    "        \n",
    "        EV1 = vmPFCdata{c}.vars(:,3);\n",
    "        \n",
    "        EV2 = vmPFCdata{c}.vars(:,6);\n",
    "        \n",
    "        [R1,P1] = corrcoef(spikes, EV1);\n",
    "        [R2,~] = corrcoef(spikes, EV2);\n",
    "        \n",
    "        R1s(c) = R1(2,1);\n",
    "        R2s(c) = R2(2,1);\n",
    "        if P1(2,1) < .05, Ps(c) = 1;end\n",
    "        \n",
    "    end\n",
    "    \n",
    "    %Are EV1 coefs correlated with EV2 coefs?\n",
    "    [R,P] = corrcoef(R1s, R2s);\n",
    "    toplotMI(b) = R(2,1);\n",
    "    if P(2,1) < .05, tostarMI(b) = .7;end\n",
    "    \n",
    "    %Are spikes correlated with EV 1?\n",
    "    toplotEV1(b) = (sum(Ps)/156);\n",
    "    \n",
    "end"
   ]
  },
  {
   "cell_type": "markdown",
   "metadata": {},
   "source": [
    "Make Plot"
   ]
  },
  {
   "cell_type": "code",
   "execution_count": null,
   "metadata": {
    "collapsed": true
   },
   "outputs": [],
   "source": [
    "figure\n",
    "hold on\n",
    "ylabel('R coef','FontSize',14);\n",
    "xlabel('time','FontSize',14);\n",
    "set(gca,'FontSize',14);\n",
    "plot(toplotMI,'b-');\n",
    "plot(tostarMI,'c*');\n",
    "plot(toplotEV1,'g-'); % green only: y axis is actually % of cells coding\n",
    "vline(250,[.5 .5 .5])\n",
    "vline(300,[.5 .5 .5])\n",
    "hold off"
   ]
  },
  {
   "cell_type": "code",
   "execution_count": null,
   "metadata": {
    "collapsed": true
   },
   "outputs": [],
   "source": []
  }
 ],
 "metadata": {
  "anaconda-cloud": {},
  "kernelspec": {
   "display_name": "Matlab",
   "language": "matlab",
   "name": "matlab"
  }
 },
 "nbformat": 4,
 "nbformat_minor": 1
}
